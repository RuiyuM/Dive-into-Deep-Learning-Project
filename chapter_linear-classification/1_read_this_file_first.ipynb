{
 "cells": [
  {
   "cell_type": "markdown",
   "id": "90b807cd",
   "metadata": {
    "pycharm": {
     "name": "#%% md\n"
    }
   },
   "source": [
    "# Linear Neural Networks for Classification\n",
    "Please proceed with reading the files in this folder according to the sequence provided in the following lines.\n",
    "\n",
    "Now that you have worked through all of the mechanics\n",
    "you are ready to apply these skills to broader kinds of tasks.\n",
    "Even as we pivot towards classification,\n",
    "most of the plumbing remains the same:\n",
    "loading the data, passing it through the model,\n",
    "generating output, calculating the loss,\n",
    "taking gradients with respect to weights,\n",
    "and updating the model.\n",
    "However, the precise form of the targets,\n",
    "the parameterization of the output layer,\n",
    "and the choice of loss function will adapt\n",
    "to suit the *classification* setting.\n",
    "\n",
    ":begin_tab:toc\n",
    " - [softmax-regression](softmax-regression.ipynb)\n",
    " - [image-classification-dataset](image-classification-dataset.ipynb)\n",
    " - [classification](classification.ipynb)\n",
    " - [softmax-regression-scratch](softmax-regression-scratch.ipynb)\n",
    " - [softmax-regression-concise](softmax-regression-concise.ipynb)\n",
    " - [generalization-classification](generalization-classification.ipynb)\n",
    " - [environment-and-distribution-shift](environment-and-distribution-shift.ipynb)\n",
    ":end_tab:"
   ]
  },
  {
   "cell_type": "code",
   "execution_count": null,
   "id": "acd014a1",
   "metadata": {
    "pycharm": {
     "name": "#%%\n"
    }
   },
   "outputs": [],
   "source": []
  }
 ],
 "metadata": {
  "kernelspec": {
   "display_name": "Python 3 (ipykernel)",
   "language": "python",
   "name": "python3"
  },
  "language_info": {
   "codemirror_mode": {
    "name": "ipython",
    "version": 3
   },
   "file_extension": ".py",
   "mimetype": "text/x-python",
   "name": "python",
   "nbconvert_exporter": "python",
   "pygments_lexer": "ipython3",
   "version": "3.9.16"
  }
 },
 "nbformat": 4,
 "nbformat_minor": 5
}