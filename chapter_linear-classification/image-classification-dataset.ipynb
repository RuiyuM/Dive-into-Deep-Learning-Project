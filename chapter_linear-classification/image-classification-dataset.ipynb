{
 "cells": [
  {
   "cell_type": "markdown",
   "id": "c2e8baf3",
   "metadata": {
    "origin_pos": 1
   },
   "source": [
    "# The Image Classification Dataset\n",
    ":label:`sec_fashion_mnist`\n",
    "\n",
    "(~~The MNIST dataset is one of the widely used dataset for image classification, while it is too simple as a benchmark dataset. We will use the similar, but more complex Fashion-MNIST dataset ~~)\n",
    "\n",
    "One of the widely used dataset for image classification is the  [MNIST dataset](https://en.wikipedia.org/wiki/MNIST_database) :cite:`LeCun.Bottou.Bengio.ea.1998` of handwritten digits. At the time of its release in the 1990s it posed a formidable challenge to most machine learning algorithms, consisting of 60,000 images of $28 \\times 28$ pixels resolution (plus a test dataset of 10,000 images). To put things into perspective, at the time, a Sun SPARCStation 5 with a whopping 64MB of RAM and a blistering 5 MFLOPs was considered state of the art equipment for machine learning at AT&T Bell Laboratories in 1995. Achieving high accuracy on digit recognition was a key component in automating letter sorting for the USPS in the 1990s. Deep networks such as LeNet-5 :cite:`LeCun.Jackel.Bottou.ea.1995`, support vector machines with invariances :cite:`Scholkopf.Burges.Vapnik.1996`, and tangent distance classifiers :cite:`Simard.LeCun.Denker.ea.1998` all allowed to reach error rates below 1%. \n",
    "\n",
    "For over a decade, MNIST served as *the* point of reference for comparing machine learning algorithms. \n",
    "While it had a good run as a benchmark dataset,\n",
    "even simple models by today's standards achieve classification accuracy over 95%,\n",
    "making it unsuitable for distinguishing between stronger models and weaker ones. Even more so, the dataset allows for *very* high levels of accuracy, not typically seen in many classification problems. This skewed algorithmic development towards specific families of algorithms that can take advantage of clean datasets, such as active set methods and boundary-seeking active set algorithms.\n",
    "Today, MNIST serves as more of sanity checks than as a benchmark. ImageNet :cite:`Deng.Dong.Socher.ea.2009` poses a much \n",
    "more relevant challenge. Unfortunately, ImageNet is too large for many of the examples and illustrations in this book, as it would take too long to train to make the examples interactive. As a substitute we will focus our discussion in the coming sections on the qualitatively similar, but much smaller Fashion-MNIST\n",
    "dataset :cite:`Xiao.Rasul.Vollgraf.2017`, which was released in 2017. It contains images of 10 categories of clothing at $28 \\times 28$ pixels resolution.\n"
   ]
  },
  {
   "cell_type": "code",
   "execution_count": 1,
   "id": "1c945652",
   "metadata": {
    "execution": {
     "iopub.execute_input": "2023-02-10T05:20:03.399095Z",
     "iopub.status.busy": "2023-02-10T05:20:03.397997Z",
     "iopub.status.idle": "2023-02-10T05:20:07.288268Z",
     "shell.execute_reply": "2023-02-10T05:20:07.282002Z"
    },
    "origin_pos": 3,
    "tab": [
     "pytorch"
    ]
   },
   "outputs": [
    {
     "name": "stderr",
     "output_type": "stream",
     "text": [
      "/Users/ruiyuma/anaconda3/envs/myenv/lib/python3.9/site-packages/torchvision/io/image.py:13: UserWarning: Failed to load image Python extension: dlopen(/Users/ruiyuma/anaconda3/envs/myenv/lib/python3.9/site-packages/torchvision/image.so, 0x0006): Symbol not found: __ZN2at4_ops19empty_memory_format4callEN3c108ArrayRefIxEENS2_8optionalINS2_10ScalarTypeEEENS5_INS2_6LayoutEEENS5_INS2_6DeviceEEENS5_IbEENS5_INS2_12MemoryFormatEEE\n",
      "  Referenced from: <CAE66874-17C2-35C9-9C4D-6BA9770AF17F> /Users/ruiyuma/anaconda3/envs/myenv/lib/python3.9/site-packages/torchvision/image.so\n",
      "  Expected in:     <43816F8F-B81C-3A93-8BD8-33AA33E93629> /Users/ruiyuma/anaconda3/envs/myenv/lib/python3.9/site-packages/torch/lib/libtorch_cpu.dylib\n",
      "  warn(f\"Failed to load image Python extension: {e}\")\n"
     ]
    }
   ],
   "source": [
    "%matplotlib inline\n",
    "import time\n",
    "import torch\n",
    "import torchvision\n",
    "from torchvision import transforms\n",
    "from d2l import torch as d2l\n",
    "\n",
    "d2l.use_svg_display()"
   ]
  },
  {
   "cell_type": "markdown",
   "id": "29343618",
   "metadata": {
    "origin_pos": 6
   },
   "source": [
    "## Loading the Dataset\n",
    "\n",
    "Since it is such a frequently used dataset, all major frameworks provide preprocessed versions of it. We can [**download and read the Fashion-MNIST dataset into memory using built-in framework utilities.**]\n"
   ]
  },
  {
   "cell_type": "code",
   "execution_count": 2,
   "id": "2468a75d",
   "metadata": {
    "execution": {
     "iopub.execute_input": "2023-02-10T05:20:07.298190Z",
     "iopub.status.busy": "2023-02-10T05:20:07.294469Z",
     "iopub.status.idle": "2023-02-10T05:20:07.305921Z",
     "shell.execute_reply": "2023-02-10T05:20:07.305060Z"
    },
    "origin_pos": 8,
    "tab": [
     "pytorch"
    ]
   },
   "outputs": [],
   "source": [
    "class FashionMNIST(d2l.DataModule):  #@save\n",
    "    \"\"\"The Fashion-MNIST dataset.\"\"\"\n",
    "    def __init__(self, batch_size=64, resize=(28, 28)):\n",
    "        super().__init__()\n",
    "        self.save_hyperparameters()\n",
    "        trans = transforms.Compose([transforms.Resize(resize),\n",
    "                                    transforms.ToTensor()])\n",
    "        self.train = torchvision.datasets.FashionMNIST(\n",
    "            root=self.root, train=True, transform=trans, download=True)\n",
    "        self.val = torchvision.datasets.FashionMNIST(\n",
    "            root=self.root, train=False, transform=trans, download=True)"
   ]
  },
  {
   "cell_type": "markdown",
   "id": "af90bf19",
   "metadata": {
    "origin_pos": 10
   },
   "source": [
    "Fashion-MNIST consists of images from 10 categories, each represented\n",
    "by 6,000 images in the training dataset and by 1,000 in the test dataset.\n",
    "A *test dataset* is used for evaluating model performance (it must not be used for training).\n",
    "Consequently the training set and the test set\n",
    "contain 60,000 and 10,000 images, respectively.\n"
   ]
  },
  {
   "cell_type": "code",
   "execution_count": 3,
   "id": "82c0d05d",
   "metadata": {
    "execution": {
     "iopub.execute_input": "2023-02-10T05:20:07.311668Z",
     "iopub.status.busy": "2023-02-10T05:20:07.309877Z",
     "iopub.status.idle": "2023-02-10T05:20:07.464889Z",
     "shell.execute_reply": "2023-02-10T05:20:07.462726Z"
    },
    "origin_pos": 11,
    "tab": [
     "pytorch"
    ]
   },
   "outputs": [
    {
     "name": "stdout",
     "output_type": "stream",
     "text": [
      "Downloading http://fashion-mnist.s3-website.eu-central-1.amazonaws.com/train-images-idx3-ubyte.gz\n",
      "Downloading http://fashion-mnist.s3-website.eu-central-1.amazonaws.com/train-images-idx3-ubyte.gz to ../data/FashionMNIST/raw/train-images-idx3-ubyte.gz\n"
     ]
    },
    {
     "name": "stderr",
     "output_type": "stream",
     "text": [
      "100.0%\n"
     ]
    },
    {
     "name": "stdout",
     "output_type": "stream",
     "text": [
      "Extracting ../data/FashionMNIST/raw/train-images-idx3-ubyte.gz to ../data/FashionMNIST/raw\n",
      "\n",
      "Downloading http://fashion-mnist.s3-website.eu-central-1.amazonaws.com/train-labels-idx1-ubyte.gz\n",
      "Downloading http://fashion-mnist.s3-website.eu-central-1.amazonaws.com/train-labels-idx1-ubyte.gz to ../data/FashionMNIST/raw/train-labels-idx1-ubyte.gz\n"
     ]
    },
    {
     "name": "stderr",
     "output_type": "stream",
     "text": [
      "100.0%\n"
     ]
    },
    {
     "name": "stdout",
     "output_type": "stream",
     "text": [
      "Extracting ../data/FashionMNIST/raw/train-labels-idx1-ubyte.gz to ../data/FashionMNIST/raw\n",
      "\n",
      "Downloading http://fashion-mnist.s3-website.eu-central-1.amazonaws.com/t10k-images-idx3-ubyte.gz\n",
      "Downloading http://fashion-mnist.s3-website.eu-central-1.amazonaws.com/t10k-images-idx3-ubyte.gz to ../data/FashionMNIST/raw/t10k-images-idx3-ubyte.gz\n"
     ]
    },
    {
     "name": "stderr",
     "output_type": "stream",
     "text": [
      "100.0%\n"
     ]
    },
    {
     "name": "stdout",
     "output_type": "stream",
     "text": [
      "Extracting ../data/FashionMNIST/raw/t10k-images-idx3-ubyte.gz to ../data/FashionMNIST/raw\n",
      "\n",
      "Downloading http://fashion-mnist.s3-website.eu-central-1.amazonaws.com/t10k-labels-idx1-ubyte.gz\n",
      "Downloading http://fashion-mnist.s3-website.eu-central-1.amazonaws.com/t10k-labels-idx1-ubyte.gz to ../data/FashionMNIST/raw/t10k-labels-idx1-ubyte.gz\n"
     ]
    },
    {
     "name": "stderr",
     "output_type": "stream",
     "text": [
      "\r",
      "100.0%"
     ]
    },
    {
     "name": "stdout",
     "output_type": "stream",
     "text": [
      "Extracting ../data/FashionMNIST/raw/t10k-labels-idx1-ubyte.gz to ../data/FashionMNIST/raw\n",
      "\n"
     ]
    },
    {
     "name": "stderr",
     "output_type": "stream",
     "text": [
      "\n"
     ]
    },
    {
     "data": {
      "text/plain": [
       "(60000, 10000)"
      ]
     },
     "execution_count": 3,
     "metadata": {},
     "output_type": "execute_result"
    }
   ],
   "source": [
    "data = FashionMNIST(resize=(32, 32))\n",
    "len(data.train), len(data.val)"
   ]
  },
  {
   "cell_type": "markdown",
   "id": "bc66e93b",
   "metadata": {
    "origin_pos": 13
   },
   "source": [
    "The images are grayscale and upscaled to $32 \\times 32$ pixels in resolution above. This is similar to the original MNIST dataset which consisted of (binary) black and white images. Note, though, that most modern image data which has 3 channels (red, green, blue) and hyperspectral images which can have in excess of 100 channels (the HyMap sensor has 126 channels).\n",
    "By convention we store image as a $c \\times h \\times w$ tensor, where $c$ is the number of color channels, $h$ is the height and $w$ is the width.\n"
   ]
  },
  {
   "cell_type": "code",
   "execution_count": 4,
   "id": "7db469f3",
   "metadata": {
    "execution": {
     "iopub.execute_input": "2023-02-10T05:20:07.469402Z",
     "iopub.status.busy": "2023-02-10T05:20:07.469125Z",
     "iopub.status.idle": "2023-02-10T05:20:07.478851Z",
     "shell.execute_reply": "2023-02-10T05:20:07.477804Z"
    },
    "origin_pos": 14,
    "tab": [
     "pytorch"
    ]
   },
   "outputs": [
    {
     "data": {
      "text/plain": [
       "torch.Size([1, 32, 32])"
      ]
     },
     "execution_count": 4,
     "metadata": {},
     "output_type": "execute_result"
    }
   ],
   "source": [
    "data.train[0][0].shape"
   ]
  },
  {
   "cell_type": "markdown",
   "id": "1bd1c332",
   "metadata": {
    "origin_pos": 15
   },
   "source": [
    "[~~Two utility functions to visualize the dataset~~]\n",
    "\n",
    "The categories of Fashion-MNIST have human-understandable names. \n",
    "The following convenience method converts between numeric labels and their names.\n"
   ]
  },
  {
   "cell_type": "code",
   "execution_count": 5,
   "id": "5973df7f",
   "metadata": {
    "execution": {
     "iopub.execute_input": "2023-02-10T05:20:07.485650Z",
     "iopub.status.busy": "2023-02-10T05:20:07.485088Z",
     "iopub.status.idle": "2023-02-10T05:20:07.492690Z",
     "shell.execute_reply": "2023-02-10T05:20:07.490266Z"
    },
    "origin_pos": 16,
    "tab": [
     "pytorch"
    ]
   },
   "outputs": [],
   "source": [
    "@d2l.add_to_class(FashionMNIST)  #@save\n",
    "def text_labels(self, indices):\n",
    "    \"\"\"Return text labels.\"\"\"\n",
    "    labels = ['t-shirt', 'trouser', 'pullover', 'dress', 'coat',\n",
    "              'sandal', 'shirt', 'sneaker', 'bag', 'ankle boot']\n",
    "    return [labels[int(i)] for i in indices]"
   ]
  },
  {
   "cell_type": "markdown",
   "id": "1e4d489b",
   "metadata": {
    "origin_pos": 17
   },
   "source": [
    "## Reading a Minibatch\n",
    "\n",
    "To make our life easier when reading from the training and test sets,\n",
    "we use the built-in data iterator rather than creating one from scratch.\n",
    "Recall that at each iteration, a data iterator\n",
    "[**reads a minibatch of data with size `batch_size`.**]\n",
    "We also randomly shuffle the examples for the training data iterator.\n"
   ]
  },
  {
   "cell_type": "code",
   "execution_count": 6,
   "id": "00d1270f",
   "metadata": {
    "execution": {
     "iopub.execute_input": "2023-02-10T05:20:07.501457Z",
     "iopub.status.busy": "2023-02-10T05:20:07.500836Z",
     "iopub.status.idle": "2023-02-10T05:20:07.506653Z",
     "shell.execute_reply": "2023-02-10T05:20:07.505665Z"
    },
    "origin_pos": 19,
    "tab": [
     "pytorch"
    ]
   },
   "outputs": [],
   "source": [
    "@d2l.add_to_class(FashionMNIST)  #@save\n",
    "def get_dataloader(self, train):\n",
    "    data = self.train if train else self.val\n",
    "    return torch.utils.data.DataLoader(data, self.batch_size, shuffle=train,\n",
    "                                       num_workers=self.num_workers)"
   ]
  },
  {
   "cell_type": "markdown",
   "id": "20ecc181",
   "metadata": {
    "origin_pos": 21
   },
   "source": [
    "To see how this works, let's load a minibatch of images by invoking the `train_dataloader` method. It contains 64 images.\n"
   ]
  },
  {
   "cell_type": "code",
   "execution_count": 7,
   "id": "63e30ad8",
   "metadata": {
    "execution": {
     "iopub.execute_input": "2023-02-10T05:20:07.510126Z",
     "iopub.status.busy": "2023-02-10T05:20:07.509549Z",
     "iopub.status.idle": "2023-02-10T05:20:07.726992Z",
     "shell.execute_reply": "2023-02-10T05:20:07.725702Z"
    },
    "origin_pos": 22,
    "tab": [
     "pytorch"
    ]
   },
   "outputs": [
    {
     "name": "stderr",
     "output_type": "stream",
     "text": [
      "/Users/ruiyuma/anaconda3/envs/myenv/lib/python3.9/site-packages/torchvision/io/image.py:13: UserWarning: Failed to load image Python extension: dlopen(/Users/ruiyuma/anaconda3/envs/myenv/lib/python3.9/site-packages/torchvision/image.so, 0x0006): Symbol not found: __ZN2at4_ops19empty_memory_format4callEN3c108ArrayRefIxEENS2_8optionalINS2_10ScalarTypeEEENS5_INS2_6LayoutEEENS5_INS2_6DeviceEEENS5_IbEENS5_INS2_12MemoryFormatEEE\n",
      "  Referenced from: <CAE66874-17C2-35C9-9C4D-6BA9770AF17F> /Users/ruiyuma/anaconda3/envs/myenv/lib/python3.9/site-packages/torchvision/image.so\n",
      "  Expected in:     <43816F8F-B81C-3A93-8BD8-33AA33E93629> /Users/ruiyuma/anaconda3/envs/myenv/lib/python3.9/site-packages/torch/lib/libtorch_cpu.dylib\n",
      "  warn(f\"Failed to load image Python extension: {e}\")\n",
      "/Users/ruiyuma/anaconda3/envs/myenv/lib/python3.9/site-packages/torchvision/io/image.py:13: UserWarning: Failed to load image Python extension: dlopen(/Users/ruiyuma/anaconda3/envs/myenv/lib/python3.9/site-packages/torchvision/image.so, 0x0006): Symbol not found: __ZN2at4_ops19empty_memory_format4callEN3c108ArrayRefIxEENS2_8optionalINS2_10ScalarTypeEEENS5_INS2_6LayoutEEENS5_INS2_6DeviceEEENS5_IbEENS5_INS2_12MemoryFormatEEE\n",
      "  Referenced from: <CAE66874-17C2-35C9-9C4D-6BA9770AF17F> /Users/ruiyuma/anaconda3/envs/myenv/lib/python3.9/site-packages/torchvision/image.so\n",
      "  Expected in:     <43816F8F-B81C-3A93-8BD8-33AA33E93629> /Users/ruiyuma/anaconda3/envs/myenv/lib/python3.9/site-packages/torch/lib/libtorch_cpu.dylib\n",
      "  warn(f\"Failed to load image Python extension: {e}\")\n",
      "/Users/ruiyuma/anaconda3/envs/myenv/lib/python3.9/site-packages/torchvision/io/image.py:13: UserWarning: Failed to load image Python extension: dlopen(/Users/ruiyuma/anaconda3/envs/myenv/lib/python3.9/site-packages/torchvision/image.so, 0x0006): Symbol not found: __ZN2at4_ops19empty_memory_format4callEN3c108ArrayRefIxEENS2_8optionalINS2_10ScalarTypeEEENS5_INS2_6LayoutEEENS5_INS2_6DeviceEEENS5_IbEENS5_INS2_12MemoryFormatEEE\n",
      "  Referenced from: <CAE66874-17C2-35C9-9C4D-6BA9770AF17F> /Users/ruiyuma/anaconda3/envs/myenv/lib/python3.9/site-packages/torchvision/image.so\n",
      "  Expected in:     <43816F8F-B81C-3A93-8BD8-33AA33E93629> /Users/ruiyuma/anaconda3/envs/myenv/lib/python3.9/site-packages/torch/lib/libtorch_cpu.dylib\n",
      "  warn(f\"Failed to load image Python extension: {e}\")\n",
      "/Users/ruiyuma/anaconda3/envs/myenv/lib/python3.9/site-packages/torchvision/io/image.py:13: UserWarning: Failed to load image Python extension: dlopen(/Users/ruiyuma/anaconda3/envs/myenv/lib/python3.9/site-packages/torchvision/image.so, 0x0006): Symbol not found: __ZN2at4_ops19empty_memory_format4callEN3c108ArrayRefIxEENS2_8optionalINS2_10ScalarTypeEEENS5_INS2_6LayoutEEENS5_INS2_6DeviceEEENS5_IbEENS5_INS2_12MemoryFormatEEE\n",
      "  Referenced from: <CAE66874-17C2-35C9-9C4D-6BA9770AF17F> /Users/ruiyuma/anaconda3/envs/myenv/lib/python3.9/site-packages/torchvision/image.so\n",
      "  Expected in:     <43816F8F-B81C-3A93-8BD8-33AA33E93629> /Users/ruiyuma/anaconda3/envs/myenv/lib/python3.9/site-packages/torch/lib/libtorch_cpu.dylib\n",
      "  warn(f\"Failed to load image Python extension: {e}\")\n"
     ]
    },
    {
     "name": "stdout",
     "output_type": "stream",
     "text": [
      "torch.Size([64, 1, 32, 32]) torch.float32 torch.Size([64]) torch.int64\n"
     ]
    }
   ],
   "source": [
    "X, y = next(iter(data.train_dataloader()))\n",
    "print(X.shape, X.dtype, y.shape, y.dtype)"
   ]
  },
  {
   "cell_type": "markdown",
   "id": "441fcfc0",
   "metadata": {
    "origin_pos": 23
   },
   "source": [
    "Let's look at the time it takes to read the images. Even though it is a built-in loader, it is not blazingly fast. Nonetheless, this is sufficient since processing images with a deep network takes quite a bit longer. Hence it is good enough that training a network will not be IO constrained.\n"
   ]
  },
  {
   "cell_type": "code",
   "execution_count": 8,
   "id": "d2f13f30",
   "metadata": {
    "execution": {
     "iopub.execute_input": "2023-02-10T05:20:07.735567Z",
     "iopub.status.busy": "2023-02-10T05:20:07.732360Z",
     "iopub.status.idle": "2023-02-10T05:20:12.802898Z",
     "shell.execute_reply": "2023-02-10T05:20:12.802027Z"
    },
    "origin_pos": 24,
    "tab": [
     "pytorch"
    ]
   },
   "outputs": [
    {
     "name": "stderr",
     "output_type": "stream",
     "text": [
      "/Users/ruiyuma/anaconda3/envs/myenv/lib/python3.9/site-packages/torchvision/io/image.py:13: UserWarning: Failed to load image Python extension: dlopen(/Users/ruiyuma/anaconda3/envs/myenv/lib/python3.9/site-packages/torchvision/image.so, 0x0006): Symbol not found: __ZN2at4_ops19empty_memory_format4callEN3c108ArrayRefIxEENS2_8optionalINS2_10ScalarTypeEEENS5_INS2_6LayoutEEENS5_INS2_6DeviceEEENS5_IbEENS5_INS2_12MemoryFormatEEE\n",
      "  Referenced from: <CAE66874-17C2-35C9-9C4D-6BA9770AF17F> /Users/ruiyuma/anaconda3/envs/myenv/lib/python3.9/site-packages/torchvision/image.so\n",
      "  Expected in:     <43816F8F-B81C-3A93-8BD8-33AA33E93629> /Users/ruiyuma/anaconda3/envs/myenv/lib/python3.9/site-packages/torch/lib/libtorch_cpu.dylib\n",
      "  warn(f\"Failed to load image Python extension: {e}\")\n",
      "/Users/ruiyuma/anaconda3/envs/myenv/lib/python3.9/site-packages/torchvision/io/image.py:13: UserWarning: Failed to load image Python extension: dlopen(/Users/ruiyuma/anaconda3/envs/myenv/lib/python3.9/site-packages/torchvision/image.so, 0x0006): Symbol not found: __ZN2at4_ops19empty_memory_format4callEN3c108ArrayRefIxEENS2_8optionalINS2_10ScalarTypeEEENS5_INS2_6LayoutEEENS5_INS2_6DeviceEEENS5_IbEENS5_INS2_12MemoryFormatEEE\n",
      "  Referenced from: <CAE66874-17C2-35C9-9C4D-6BA9770AF17F> /Users/ruiyuma/anaconda3/envs/myenv/lib/python3.9/site-packages/torchvision/image.so\n",
      "  Expected in:     <43816F8F-B81C-3A93-8BD8-33AA33E93629> /Users/ruiyuma/anaconda3/envs/myenv/lib/python3.9/site-packages/torch/lib/libtorch_cpu.dylib\n",
      "  warn(f\"Failed to load image Python extension: {e}\")\n",
      "/Users/ruiyuma/anaconda3/envs/myenv/lib/python3.9/site-packages/torchvision/io/image.py:13: UserWarning: Failed to load image Python extension: dlopen(/Users/ruiyuma/anaconda3/envs/myenv/lib/python3.9/site-packages/torchvision/image.so, 0x0006): Symbol not found: __ZN2at4_ops19empty_memory_format4callEN3c108ArrayRefIxEENS2_8optionalINS2_10ScalarTypeEEENS5_INS2_6LayoutEEENS5_INS2_6DeviceEEENS5_IbEENS5_INS2_12MemoryFormatEEE\n",
      "  Referenced from: <CAE66874-17C2-35C9-9C4D-6BA9770AF17F> /Users/ruiyuma/anaconda3/envs/myenv/lib/python3.9/site-packages/torchvision/image.so\n",
      "  Expected in:     <43816F8F-B81C-3A93-8BD8-33AA33E93629> /Users/ruiyuma/anaconda3/envs/myenv/lib/python3.9/site-packages/torch/lib/libtorch_cpu.dylib\n",
      "  warn(f\"Failed to load image Python extension: {e}\")\n",
      "/Users/ruiyuma/anaconda3/envs/myenv/lib/python3.9/site-packages/torchvision/io/image.py:13: UserWarning: Failed to load image Python extension: dlopen(/Users/ruiyuma/anaconda3/envs/myenv/lib/python3.9/site-packages/torchvision/image.so, 0x0006): Symbol not found: __ZN2at4_ops19empty_memory_format4callEN3c108ArrayRefIxEENS2_8optionalINS2_10ScalarTypeEEENS5_INS2_6LayoutEEENS5_INS2_6DeviceEEENS5_IbEENS5_INS2_12MemoryFormatEEE\n",
      "  Referenced from: <CAE66874-17C2-35C9-9C4D-6BA9770AF17F> /Users/ruiyuma/anaconda3/envs/myenv/lib/python3.9/site-packages/torchvision/image.so\n",
      "  Expected in:     <43816F8F-B81C-3A93-8BD8-33AA33E93629> /Users/ruiyuma/anaconda3/envs/myenv/lib/python3.9/site-packages/torch/lib/libtorch_cpu.dylib\n",
      "  warn(f\"Failed to load image Python extension: {e}\")\n"
     ]
    },
    {
     "data": {
      "text/plain": [
       "'3.10 sec'"
      ]
     },
     "execution_count": 8,
     "metadata": {},
     "output_type": "execute_result"
    }
   ],
   "source": [
    "tic = time.time()\n",
    "for X, y in data.train_dataloader():\n",
    "    continue\n",
    "f'{time.time() - tic:.2f} sec'"
   ]
  },
  {
   "cell_type": "markdown",
   "id": "3afc3147",
   "metadata": {
    "origin_pos": 25
   },
   "source": [
    "## Visualization\n",
    "\n",
    "We'll be using the Fashion-MNIST dataset quite frequently. A convenience function `show_images` can be used to visualize the images and the associated labels. Details of its implementation are deferred to the appendix.\n"
   ]
  },
  {
   "cell_type": "code",
   "execution_count": 9,
   "id": "cda20de3",
   "metadata": {
    "execution": {
     "iopub.execute_input": "2023-02-10T05:20:12.807154Z",
     "iopub.status.busy": "2023-02-10T05:20:12.806436Z",
     "iopub.status.idle": "2023-02-10T05:20:12.811099Z",
     "shell.execute_reply": "2023-02-10T05:20:12.810440Z"
    },
    "origin_pos": 26,
    "tab": [
     "pytorch"
    ]
   },
   "outputs": [],
   "source": [
    "def show_images(imgs, num_rows, num_cols, titles=None, scale=1.5):  #@save\n",
    "    \"\"\"Plot a list of images.\"\"\"\n",
    "    raise NotImplementedError"
   ]
  },
  {
   "cell_type": "markdown",
   "id": "0c81cff2",
   "metadata": {
    "origin_pos": 27
   },
   "source": [
    "Let's put it to good use. In general, it is a good idea to visualize and inspect data that you're training on. \n",
    "Humans are very good at spotting unusual aspects and as such, visualization serves as an additional safeguard against mistakes and errors in the design of experiments. Here are [**the images and their corresponding labels**] (in text)\n",
    "for the first few examples in the training dataset.\n"
   ]
  },
  {
   "cell_type": "code",
   "execution_count": null,
   "id": "5064b1d6",
   "metadata": {
    "execution": {
     "iopub.execute_input": "2023-02-10T05:20:12.817620Z",
     "iopub.status.busy": "2023-02-10T05:20:12.817031Z",
     "iopub.status.idle": "2023-02-10T05:20:13.696895Z",
     "shell.execute_reply": "2023-02-10T05:20:13.694580Z"
    },
    "origin_pos": 28,
    "tab": [
     "pytorch"
    ]
   },
   "outputs": [
    {
     "name": "stderr",
     "output_type": "stream",
     "text": [
      "/Users/ruiyuma/anaconda3/envs/myenv/lib/python3.9/site-packages/torchvision/io/image.py:13: UserWarning: Failed to load image Python extension: dlopen(/Users/ruiyuma/anaconda3/envs/myenv/lib/python3.9/site-packages/torchvision/image.so, 0x0006): Symbol not found: __ZN2at4_ops19empty_memory_format4callEN3c108ArrayRefIxEENS2_8optionalINS2_10ScalarTypeEEENS5_INS2_6LayoutEEENS5_INS2_6DeviceEEENS5_IbEENS5_INS2_12MemoryFormatEEE\n",
      "  Referenced from: <CAE66874-17C2-35C9-9C4D-6BA9770AF17F> /Users/ruiyuma/anaconda3/envs/myenv/lib/python3.9/site-packages/torchvision/image.so\n",
      "  Expected in:     <43816F8F-B81C-3A93-8BD8-33AA33E93629> /Users/ruiyuma/anaconda3/envs/myenv/lib/python3.9/site-packages/torch/lib/libtorch_cpu.dylib\n",
      "  warn(f\"Failed to load image Python extension: {e}\")\n",
      "/Users/ruiyuma/anaconda3/envs/myenv/lib/python3.9/site-packages/torchvision/io/image.py:13: UserWarning: Failed to load image Python extension: dlopen(/Users/ruiyuma/anaconda3/envs/myenv/lib/python3.9/site-packages/torchvision/image.so, 0x0006): Symbol not found: __ZN2at4_ops19empty_memory_format4callEN3c108ArrayRefIxEENS2_8optionalINS2_10ScalarTypeEEENS5_INS2_6LayoutEEENS5_INS2_6DeviceEEENS5_IbEENS5_INS2_12MemoryFormatEEE\n",
      "  Referenced from: <CAE66874-17C2-35C9-9C4D-6BA9770AF17F> /Users/ruiyuma/anaconda3/envs/myenv/lib/python3.9/site-packages/torchvision/image.so\n",
      "  Expected in:     <43816F8F-B81C-3A93-8BD8-33AA33E93629> /Users/ruiyuma/anaconda3/envs/myenv/lib/python3.9/site-packages/torch/lib/libtorch_cpu.dylib\n",
      "  warn(f\"Failed to load image Python extension: {e}\")\n",
      "/Users/ruiyuma/anaconda3/envs/myenv/lib/python3.9/site-packages/torchvision/io/image.py:13: UserWarning: Failed to load image Python extension: dlopen(/Users/ruiyuma/anaconda3/envs/myenv/lib/python3.9/site-packages/torchvision/image.so, 0x0006): Symbol not found: __ZN2at4_ops19empty_memory_format4callEN3c108ArrayRefIxEENS2_8optionalINS2_10ScalarTypeEEENS5_INS2_6LayoutEEENS5_INS2_6DeviceEEENS5_IbEENS5_INS2_12MemoryFormatEEE\n",
      "  Referenced from: <CAE66874-17C2-35C9-9C4D-6BA9770AF17F> /Users/ruiyuma/anaconda3/envs/myenv/lib/python3.9/site-packages/torchvision/image.so\n",
      "  Expected in:     <43816F8F-B81C-3A93-8BD8-33AA33E93629> /Users/ruiyuma/anaconda3/envs/myenv/lib/python3.9/site-packages/torch/lib/libtorch_cpu.dylib\n",
      "  warn(f\"Failed to load image Python extension: {e}\")\n",
      "/Users/ruiyuma/anaconda3/envs/myenv/lib/python3.9/site-packages/torchvision/io/image.py:13: UserWarning: Failed to load image Python extension: dlopen(/Users/ruiyuma/anaconda3/envs/myenv/lib/python3.9/site-packages/torchvision/image.so, 0x0006): Symbol not found: __ZN2at4_ops19empty_memory_format4callEN3c108ArrayRefIxEENS2_8optionalINS2_10ScalarTypeEEENS5_INS2_6LayoutEEENS5_INS2_6DeviceEEENS5_IbEENS5_INS2_12MemoryFormatEEE\n",
      "  Referenced from: <CAE66874-17C2-35C9-9C4D-6BA9770AF17F> /Users/ruiyuma/anaconda3/envs/myenv/lib/python3.9/site-packages/torchvision/image.so\n",
      "  Expected in:     <43816F8F-B81C-3A93-8BD8-33AA33E93629> /Users/ruiyuma/anaconda3/envs/myenv/lib/python3.9/site-packages/torch/lib/libtorch_cpu.dylib\n",
      "  warn(f\"Failed to load image Python extension: {e}\")\n"
     ]
    }
   ],
   "source": [
    "@d2l.add_to_class(FashionMNIST)  #@save\n",
    "def visualize(self, batch, nrows=1, ncols=8, labels=[]):\n",
    "    X, y = batch\n",
    "    if not labels:\n",
    "        labels = self.text_labels(y)\n",
    "    d2l.show_images(X.squeeze(1), nrows, ncols, titles=labels)\n",
    "batch = next(iter(data.val_dataloader()))\n",
    "data.visualize(batch)"
   ]
  },
  {
   "cell_type": "markdown",
   "id": "ea817f6e",
   "metadata": {
    "origin_pos": 29
   },
   "source": [
    "We are now ready to work with the Fashion-MNIST dataset in the sections that follow.\n",
    "\n",
    "## Summary\n",
    "\n",
    "We now have a slightly more realistic dataset to use for classification. Fashion-MNIST is an apparel classification dataset consisting of images representing 10 categories. We will use this dataset in subsequent sections and chapters to evaluate various network designs, from a simple linear model to advanced residual networks. As we commonly do with images, we read them as a tensor of shape (batch size, number of channels, height, width). For now, we only have one channel as the images are grayscale (the visualization above use a false color palette for improved visibility). \n",
    "\n",
    "Lastly, data iterators are a key component for efficient performance. For instance, we might use GPUs for efficient image decompression, video transcoding, or other preprocessing. Whenever possible, you should rely on well-implemented data iterators that exploit high-performance computing to avoid slowing down your training loop.\n",
    "\n",
    "\n",
    "## Exercises\n",
    "\n",
    "1. Does reducing the `batch_size` (for instance, to 1) affect the reading performance?\n",
    "1. The data iterator performance is important. Do you think the current implementation is fast enough? Explore various options to improve it. Use a system profiler to find out where the bottlenecks are.\n",
    "1. Check out the framework's online API documentation. Which other datasets are available?\n"
   ]
  },
  {
   "cell_type": "markdown",
   "id": "78ed3479",
   "metadata": {
    "origin_pos": 31,
    "tab": [
     "pytorch"
    ]
   },
   "source": [
    "[Discussions](https://discuss.d2l.ai/t/49)\n"
   ]
  }
 ],
 "metadata": {
  "kernelspec": {
   "display_name": "Python 3 (ipykernel)",
   "language": "python",
   "name": "python3"
  },
  "language_info": {
   "codemirror_mode": {
    "name": "ipython",
    "version": 3
   },
   "file_extension": ".py",
   "mimetype": "text/x-python",
   "name": "python",
   "nbconvert_exporter": "python",
   "pygments_lexer": "ipython3",
   "version": "3.9.16"
  }
 },
 "nbformat": 4,
 "nbformat_minor": 5
}
